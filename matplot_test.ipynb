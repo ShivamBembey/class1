{
 "cells": [
  {
   "cell_type": "code",
   "execution_count": 1,
   "id": "8a1b137b",
   "metadata": {},
   "outputs": [],
   "source": [
    "import matplotlib.pyplot as plt\n",
    "import numpy as np\n"
   ]
  },
  {
   "cell_type": "code",
   "execution_count": 133,
   "id": "0f66e993",
   "metadata": {},
   "outputs": [
    {
     "data": {
      "image/png": "[encoded data removed]",
      "text/plain": [
       "<Figure size 432x288 with 1 Axes>"
      ]
     },
     "metadata": {
      "needs_background": "light"
     },
     "output_type": "display_data"
    }
   ],
   "source": [
    "\n",
    "R=np.linspace(1.4,10,100)\n",
    "X=[]\n",
    "Y=[]\n",
    "for r in R:\n",
    "    X.append(r)\n",
    "    x=np.random.random()\n",
    "        \n",
    "    Y.append(x)\n",
    "plt.plot(X,Y, ls='',marker=',')\n",
    "plt.show()\n"
   ]
  },
  {
   "cell_type": "code",
   "execution_count": 129,
   "id": "51162988",
   "metadata": {},
   "outputs": [
    {
     "data": {
      "text/plain": [
       "array([ 1.4       ,  1.48686869,  1.57373737,  1.66060606,  1.74747475,\n",
       "        1.83434343,  1.92121212,  2.00808081,  2.09494949,  2.18181818,\n",
       "        2.26868687,  2.35555556,  2.44242424,  2.52929293,  2.61616162,\n",
       "        2.7030303 ,  2.78989899,  2.87676768,  2.96363636,  3.05050505,\n",
       "        3.13737374,  3.22424242,  3.31111111,  3.3979798 ,  3.48484848,\n",
       "        3.57171717,  3.65858586,  3.74545455,  3.83232323,  3.91919192,\n",
       "        4.00606061,  4.09292929,  4.17979798,  4.26666667,  4.35353535,\n",
       "        4.44040404,  4.52727273,  4.61414141,  4.7010101 ,  4.78787879,\n",
       "        4.87474747,  4.96161616,  5.04848485,  5.13535354,  5.22222222,\n",
       "        5.30909091,  5.3959596 ,  5.48282828,  5.56969697,  5.65656566,\n",
       "        5.74343434,  5.83030303,  5.91717172,  6.0040404 ,  6.09090909,\n",
       "        6.17777778,  6.26464646,  6.35151515,  6.43838384,  6.52525253,\n",
       "        6.61212121,  6.6989899 ,  6.78585859,  6.87272727,  6.95959596,\n",
       "        7.04646465,  7.13333333,  7.22020202,  7.30707071,  7.39393939,\n",
       "        7.48080808,  7.56767677,  7.65454545,  7.74141414,  7.82828283,\n",
       "        7.91515152,  8.0020202 ,  8.08888889,  8.17575758,  8.26262626,\n",
       "        8.34949495,  8.43636364,  8.52323232,  8.61010101,  8.6969697 ,\n",
       "        8.78383838,  8.87070707,  8.95757576,  9.04444444,  9.13131313,\n",
       "        9.21818182,  9.30505051,  9.39191919,  9.47878788,  9.56565657,\n",
       "        9.65252525,  9.73939394,  9.82626263,  9.91313131, 10.        ])"
      ]
     },
     "execution_count": 129,
     "metadata": {},
     "output_type": "execute_result"
    }
   ],
   "source": [
    "R"
   ]
  },
  {
   "cell_type": "code",
   "execution_count": 139,
   "id": "ce97836a",
   "metadata": {},
   "outputs": [
    {
     "name": "stderr",
     "output_type": "stream",
     "text": [
      "C:\\Users\\hp\\AppData\\Local\\Temp\\ipykernel_12284\\2925803992.py:10: RuntimeWarning: overflow encountered in double_scalars\n",
      "  x=r*(1-x)*(1-x)\n",
      "C:\\Users\\hp\\AppData\\Local\\Temp\\ipykernel_12284\\2925803992.py:8: RuntimeWarning: overflow encountered in double_scalars\n",
      "  x=r*(1-x)*(1-x)\n"
     ]
    },
    {
     "data": {
      "image/png": "[encoded data removed]",
      "text/plain": [
       "<Figure size 432x288 with 1 Axes>"
      ]
     },
     "metadata": {
      "needs_background": "light"
     },
     "output_type": "display_data"
    }
   ],
   "source": [
    "R=np.linspace(1.4,10,100)\n",
    "X=[]\n",
    "Y=[]\n",
    "for r in R:\n",
    "    X.append(r)\n",
    "    x=np.random.random()\n",
    "    for n in range(10):\n",
    "        x=r*(1-x)*(1-x)\n",
    "        for n in range(10):\n",
    "            x=r*(1-x)*(1-x)    \n",
    "    Y.append(x)\n",
    "plt.plot(X,Y, ls='',marker=',')\n",
    "plt.show()"
   ]
  },
  {
   "cell_type": "code",
   "execution_count": 95,
   "id": "36f1367d",
   "metadata": {},
   "outputs": [
    {
     "data": {
      "text/plain": [
       "[1.4,\n",
       " 1.4868686868686867,\n",
       " 1.5737373737373737,\n",
       " 1.6606060606060604,\n",
       " 1.7474747474747474,\n",
       " 1.8343434343434342,\n",
       " 1.921212121212121,\n",
       " 2.008080808080808,\n",
       " 2.094949494949495,\n",
       " 2.1818181818181817,\n",
       " 2.2686868686868684,\n",
       " 2.355555555555555,\n",
       " 2.4424242424242424,\n",
       " 2.529292929292929,\n",
       " 2.616161616161616,\n",
       " 2.703030303030303,\n",
       " 2.7898989898989894,\n",
       " 2.8767676767676766,\n",
       " 2.9636363636363634,\n",
       " 3.05050505050505,\n",
       " 3.1373737373737374,\n",
       " 3.2242424242424237,\n",
       " 3.311111111111111,\n",
       " 3.3979797979797977,\n",
       " 3.4848484848484844,\n",
       " 3.571717171717171,\n",
       " 3.6585858585858584,\n",
       " 3.745454545454545,\n",
       " 3.832323232323232,\n",
       " 3.9191919191919187,\n",
       " 4.006060606060606,\n",
       " 4.092929292929293,\n",
       " 4.179797979797979,\n",
       " 4.266666666666666,\n",
       " 4.353535353535353,\n",
       " 4.44040404040404,\n",
       " 4.527272727272727,\n",
       " 4.614141414141414,\n",
       " 4.7010101010101,\n",
       " 4.787878787878787,\n",
       " 4.874747474747474,\n",
       " 4.961616161616162,\n",
       " 5.048484848484848,\n",
       " 5.135353535353534,\n",
       " 5.222222222222221,\n",
       " 5.309090909090909,\n",
       " 5.395959595959596,\n",
       " 5.482828282828283,\n",
       " 5.5696969696969685,\n",
       " 5.656565656565656,\n",
       " 5.743434343434343,\n",
       " 5.83030303030303,\n",
       " 5.917171717171717,\n",
       " 6.004040404040403,\n",
       " 6.09090909090909,\n",
       " 6.177777777777777,\n",
       " 6.264646464646464,\n",
       " 6.351515151515152,\n",
       " 6.438383838383837,\n",
       " 6.525252525252524,\n",
       " 6.612121212121211,\n",
       " 6.698989898989899,\n",
       " 6.785858585858586,\n",
       " 6.872727272727271,\n",
       " 6.9595959595959584,\n",
       " 7.046464646464646,\n",
       " 7.133333333333333,\n",
       " 7.22020202020202,\n",
       " 7.3070707070707055,\n",
       " 7.393939393939393,\n",
       " 7.48080808080808,\n",
       " 7.567676767676767,\n",
       " 7.654545454545454,\n",
       " 7.74141414141414,\n",
       " 7.828282828282827,\n",
       " 7.915151515151514,\n",
       " 8.002020202020201,\n",
       " 8.088888888888889,\n",
       " 8.175757575757576,\n",
       " 8.262626262626261,\n",
       " 8.349494949494948,\n",
       " 8.436363636363636,\n",
       " 8.523232323232323,\n",
       " 8.61010101010101,\n",
       " 8.696969696969695,\n",
       " 8.783838383838383,\n",
       " 8.87070707070707,\n",
       " 8.957575757575757,\n",
       " 9.044444444444444,\n",
       " 9.13131313131313,\n",
       " 9.218181818181817,\n",
       " 9.305050505050504,\n",
       " 9.391919191919191,\n",
       " 9.478787878787879,\n",
       " 9.565656565656566,\n",
       " 9.652525252525251,\n",
       " 9.739393939393938,\n",
       " 9.826262626262626,\n",
       " 9.913131313131313,\n",
       " 10.0]"
      ]
     },
     "execution_count": 95,
     "metadata": {},
     "output_type": "execute_result"
    }
   ],
   "source": [
    "X"
   ]
  },
  {
   "cell_type": "code",
   "execution_count": 123,
   "id": "94ade8b0",
   "metadata": {},
   "outputs": [
    {
     "data": {
      "text/plain": [
       "[1.389475575289688,\n",
       " 0.05159064089823593,\n",
       " 0.6214401544742315,\n",
       " 1.614907275561673,\n",
       " 0.007397980837653491,\n",
       " 1.4320659062030954,\n",
       " 1.5782925390339408,\n",
       " 1.4284751885812406,\n",
       " inf,\n",
       " inf,\n",
       " 6.55865501644665e+45,\n",
       " inf,\n",
       " inf,\n",
       " inf,\n",
       " inf,\n",
       " inf,\n",
       " inf,\n",
       " inf,\n",
       " inf,\n",
       " inf,\n",
       " inf,\n",
       " inf,\n",
       " inf,\n",
       " inf,\n",
       " inf,\n",
       " inf,\n",
       " inf,\n",
       " inf,\n",
       " inf,\n",
       " inf,\n",
       " inf,\n",
       " inf,\n",
       " inf,\n",
       " inf,\n",
       " inf,\n",
       " inf,\n",
       " inf,\n",
       " inf,\n",
       " inf,\n",
       " inf,\n",
       " inf,\n",
       " inf,\n",
       " inf,\n",
       " inf,\n",
       " inf,\n",
       " inf,\n",
       " inf,\n",
       " inf,\n",
       " inf,\n",
       " inf,\n",
       " inf,\n",
       " inf,\n",
       " inf,\n",
       " inf,\n",
       " inf,\n",
       " inf,\n",
       " inf,\n",
       " inf,\n",
       " inf,\n",
       " inf,\n",
       " inf,\n",
       " inf,\n",
       " inf,\n",
       " inf,\n",
       " inf,\n",
       " inf,\n",
       " inf,\n",
       " inf,\n",
       " inf,\n",
       " inf,\n",
       " inf,\n",
       " inf,\n",
       " inf,\n",
       " inf,\n",
       " inf,\n",
       " inf,\n",
       " inf,\n",
       " inf,\n",
       " inf,\n",
       " inf,\n",
       " inf,\n",
       " inf,\n",
       " inf,\n",
       " inf,\n",
       " inf,\n",
       " inf,\n",
       " inf,\n",
       " inf,\n",
       " inf,\n",
       " inf,\n",
       " inf,\n",
       " inf,\n",
       " inf,\n",
       " inf,\n",
       " inf,\n",
       " inf,\n",
       " inf,\n",
       " inf,\n",
       " inf,\n",
       " inf]"
      ]
     },
     "execution_count": 123,
     "metadata": {},
     "output_type": "execute_result"
    }
   ],
   "source": [
    "Y"
   ]
  },
  {
   "cell_type": "code",
   "execution_count": null,
   "id": "7345deb1",
   "metadata": {},
   "outputs": [],
   "source": []
  }
 ],
 "metadata": {
  "kernelspec": {
   "display_name": "Python 3 (ipykernel)",
   "language": "python",
   "name": "python3"
  },
  "language_info": {
   "codemirror_mode": {
    "name": "ipython",
    "version": 3
   },
   "file_extension": ".py",
   "mimetype": "text/x-python",
   "name": "python",
   "nbconvert_exporter": "python",
   "pygments_lexer": "ipython3",
   "version": "3.9.12"
  }
 },
 "nbformat": 4,
 "nbformat_minor": 5
}
